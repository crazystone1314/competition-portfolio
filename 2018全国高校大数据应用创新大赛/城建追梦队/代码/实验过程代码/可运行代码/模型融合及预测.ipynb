{
 "cells": [
  {
   "cell_type": "markdown",
   "metadata": {
    "collapsed": true
   },
   "source": [
    "# 优化等级标注预测详细流程"
   ]
  },
  {
   "cell_type": "code",
   "execution_count": 1,
   "metadata": {
    "collapsed": true
   },
   "outputs": [],
   "source": [
    "# 引入工程所需要的库\n",
    "from pyecharts import online\n",
    "online() # 使用远程 jshost"
   ]
  },
  {
   "cell_type": "code",
   "execution_count": 2,
   "metadata": {
    "collapsed": true
   },
   "outputs": [],
   "source": [
    "import numpy as np\n",
    "import pandas as pd "
   ]
  },
  {
   "cell_type": "code",
   "execution_count": 3,
   "metadata": {
    "collapsed": true
   },
   "outputs": [],
   "source": [
    "import matplotlib as mpl\n",
    "import seaborn as sns\n",
    "import matplotlib.pyplot as plt\n",
    "%matplotlib inline "
   ]
  },
  {
   "cell_type": "markdown",
   "metadata": {},
   "source": [
    "# 1. 数据总览"
   ]
  },
  {
   "cell_type": "markdown",
   "metadata": {},
   "source": [
    "## 1.1 加载数据"
   ]
  },
  {
   "cell_type": "code",
   "execution_count": 4,
   "metadata": {
    "collapsed": true
   },
   "outputs": [],
   "source": [
    "# 原始数据路径\n",
    "train_path = 'H://train_data.csv'\n",
    "test_path = 'H://test_data.csv'\n",
    "importance_feature_path = 'H://importance_feature_data.csv'\n",
    "columns = pd.read_csv(importance_feature_path)\n",
    "\n",
    "# 读取原始数据\n",
    "# train_data-final数据\n",
    "train_data = pd.read_csv(train_path)\n",
    "train_data = train_data[list(columns['importance_feature'].values)+['hand']]\n",
    "test_data = pd.read_csv(test_path)\n",
    "test_data = test_data[columns['importance_feature'].values]"
   ]
  },
  {
   "cell_type": "code",
   "execution_count": 5,
   "metadata": {
    "collapsed": false
   },
   "outputs": [
    {
     "data": {
      "text/plain": [
       "(29710, 44)"
      ]
     },
     "execution_count": 5,
     "metadata": {},
     "output_type": "execute_result"
    }
   ],
   "source": [
    "train_data.shape"
   ]
  },
  {
   "cell_type": "code",
   "execution_count": 6,
   "metadata": {
    "collapsed": false
   },
   "outputs": [
    {
     "data": {
      "text/plain": [
       "(1000000, 43)"
      ]
     },
     "execution_count": 6,
     "metadata": {},
     "output_type": "execute_result"
    }
   ],
   "source": [
    "test_data.shape"
   ]
  },
  {
   "cell_type": "markdown",
   "metadata": {},
   "source": [
    "观察前几行的源数据："
   ]
  },
  {
   "cell_type": "code",
   "execution_count": 7,
   "metadata": {
    "collapsed": false
   },
   "outputs": [
    {
     "data": {
      "text/html": [
       "<div>\n",
       "<style>\n",
       "    .dataframe thead tr:only-child th {\n",
       "        text-align: right;\n",
       "    }\n",
       "\n",
       "    .dataframe thead th {\n",
       "        text-align: left;\n",
       "    }\n",
       "\n",
       "    .dataframe tbody tr th {\n",
       "        vertical-align: top;\n",
       "    }\n",
       "</style>\n",
       "<table border=\"1\" class=\"dataframe\">\n",
       "  <thead>\n",
       "    <tr style=\"text-align: right;\">\n",
       "      <th></th>\n",
       "      <th>rankCount1</th>\n",
       "      <th>rankCount2</th>\n",
       "      <th>rankCount3</th>\n",
       "      <th>suitCount3</th>\n",
       "      <th>suitCount2</th>\n",
       "      <th>suitCount1</th>\n",
       "      <th>suitCount4</th>\n",
       "      <th>diff8_3</th>\n",
       "      <th>rankCount4</th>\n",
       "      <th>diff9_3</th>\n",
       "      <th>...</th>\n",
       "      <th>rank5</th>\n",
       "      <th>diff4_2</th>\n",
       "      <th>diff11_5</th>\n",
       "      <th>diff11_2</th>\n",
       "      <th>rank12</th>\n",
       "      <th>diff5_4</th>\n",
       "      <th>diff4_3</th>\n",
       "      <th>diff12_11</th>\n",
       "      <th>diff12_1</th>\n",
       "      <th>hand</th>\n",
       "    </tr>\n",
       "  </thead>\n",
       "  <tbody>\n",
       "    <tr>\n",
       "      <th>0</th>\n",
       "      <td>5</td>\n",
       "      <td>0</td>\n",
       "      <td>0</td>\n",
       "      <td>5</td>\n",
       "      <td>0</td>\n",
       "      <td>0</td>\n",
       "      <td>0</td>\n",
       "      <td>0</td>\n",
       "      <td>0</td>\n",
       "      <td>0</td>\n",
       "      <td>...</td>\n",
       "      <td>0</td>\n",
       "      <td>0</td>\n",
       "      <td>1</td>\n",
       "      <td>1</td>\n",
       "      <td>1</td>\n",
       "      <td>0</td>\n",
       "      <td>0</td>\n",
       "      <td>0</td>\n",
       "      <td>0</td>\n",
       "      <td>1</td>\n",
       "    </tr>\n",
       "    <tr>\n",
       "      <th>1</th>\n",
       "      <td>5</td>\n",
       "      <td>0</td>\n",
       "      <td>0</td>\n",
       "      <td>0</td>\n",
       "      <td>0</td>\n",
       "      <td>0</td>\n",
       "      <td>5</td>\n",
       "      <td>0</td>\n",
       "      <td>0</td>\n",
       "      <td>0</td>\n",
       "      <td>...</td>\n",
       "      <td>0</td>\n",
       "      <td>0</td>\n",
       "      <td>1</td>\n",
       "      <td>1</td>\n",
       "      <td>1</td>\n",
       "      <td>0</td>\n",
       "      <td>0</td>\n",
       "      <td>0</td>\n",
       "      <td>0</td>\n",
       "      <td>1</td>\n",
       "    </tr>\n",
       "    <tr>\n",
       "      <th>2</th>\n",
       "      <td>5</td>\n",
       "      <td>0</td>\n",
       "      <td>0</td>\n",
       "      <td>0</td>\n",
       "      <td>5</td>\n",
       "      <td>0</td>\n",
       "      <td>0</td>\n",
       "      <td>0</td>\n",
       "      <td>0</td>\n",
       "      <td>0</td>\n",
       "      <td>...</td>\n",
       "      <td>0</td>\n",
       "      <td>0</td>\n",
       "      <td>1</td>\n",
       "      <td>1</td>\n",
       "      <td>1</td>\n",
       "      <td>0</td>\n",
       "      <td>0</td>\n",
       "      <td>0</td>\n",
       "      <td>0</td>\n",
       "      <td>1</td>\n",
       "    </tr>\n",
       "    <tr>\n",
       "      <th>3</th>\n",
       "      <td>5</td>\n",
       "      <td>0</td>\n",
       "      <td>0</td>\n",
       "      <td>0</td>\n",
       "      <td>0</td>\n",
       "      <td>5</td>\n",
       "      <td>0</td>\n",
       "      <td>0</td>\n",
       "      <td>0</td>\n",
       "      <td>0</td>\n",
       "      <td>...</td>\n",
       "      <td>0</td>\n",
       "      <td>0</td>\n",
       "      <td>1</td>\n",
       "      <td>1</td>\n",
       "      <td>1</td>\n",
       "      <td>0</td>\n",
       "      <td>0</td>\n",
       "      <td>0</td>\n",
       "      <td>0</td>\n",
       "      <td>1</td>\n",
       "    </tr>\n",
       "    <tr>\n",
       "      <th>4</th>\n",
       "      <td>5</td>\n",
       "      <td>0</td>\n",
       "      <td>0</td>\n",
       "      <td>0</td>\n",
       "      <td>0</td>\n",
       "      <td>5</td>\n",
       "      <td>0</td>\n",
       "      <td>0</td>\n",
       "      <td>0</td>\n",
       "      <td>0</td>\n",
       "      <td>...</td>\n",
       "      <td>0</td>\n",
       "      <td>0</td>\n",
       "      <td>1</td>\n",
       "      <td>1</td>\n",
       "      <td>1</td>\n",
       "      <td>0</td>\n",
       "      <td>0</td>\n",
       "      <td>0</td>\n",
       "      <td>0</td>\n",
       "      <td>1</td>\n",
       "    </tr>\n",
       "  </tbody>\n",
       "</table>\n",
       "<p>5 rows × 44 columns</p>\n",
       "</div>"
      ],
      "text/plain": [
       "   rankCount1  rankCount2  rankCount3  suitCount3  suitCount2  suitCount1  \\\n",
       "0           5           0           0           5           0           0   \n",
       "1           5           0           0           0           0           0   \n",
       "2           5           0           0           0           5           0   \n",
       "3           5           0           0           0           0           5   \n",
       "4           5           0           0           0           0           5   \n",
       "\n",
       "   suitCount4  diff8_3  rankCount4  diff9_3  ...   rank5  diff4_2  diff11_5  \\\n",
       "0           0        0           0        0  ...       0        0         1   \n",
       "1           5        0           0        0  ...       0        0         1   \n",
       "2           0        0           0        0  ...       0        0         1   \n",
       "3           0        0           0        0  ...       0        0         1   \n",
       "4           0        0           0        0  ...       0        0         1   \n",
       "\n",
       "   diff11_2  rank12  diff5_4  diff4_3  diff12_11  diff12_1  hand  \n",
       "0         1       1        0        0          0         0     1  \n",
       "1         1       1        0        0          0         0     1  \n",
       "2         1       1        0        0          0         0     1  \n",
       "3         1       1        0        0          0         0     1  \n",
       "4         1       1        0        0          0         0     1  \n",
       "\n",
       "[5 rows x 44 columns]"
      ]
     },
     "execution_count": 7,
     "metadata": {},
     "output_type": "execute_result"
    }
   ],
   "source": [
    "train_data.head()"
   ]
  },
  {
   "cell_type": "code",
   "execution_count": 8,
   "metadata": {
    "collapsed": false
   },
   "outputs": [
    {
     "data": {
      "text/html": [
       "<div>\n",
       "<style>\n",
       "    .dataframe thead tr:only-child th {\n",
       "        text-align: right;\n",
       "    }\n",
       "\n",
       "    .dataframe thead th {\n",
       "        text-align: left;\n",
       "    }\n",
       "\n",
       "    .dataframe tbody tr th {\n",
       "        vertical-align: top;\n",
       "    }\n",
       "</style>\n",
       "<table border=\"1\" class=\"dataframe\">\n",
       "  <thead>\n",
       "    <tr style=\"text-align: right;\">\n",
       "      <th></th>\n",
       "      <th>rankCount1</th>\n",
       "      <th>rankCount2</th>\n",
       "      <th>rankCount3</th>\n",
       "      <th>suitCount3</th>\n",
       "      <th>suitCount2</th>\n",
       "      <th>suitCount1</th>\n",
       "      <th>suitCount4</th>\n",
       "      <th>diff8_3</th>\n",
       "      <th>rankCount4</th>\n",
       "      <th>diff9_3</th>\n",
       "      <th>...</th>\n",
       "      <th>diff9_6</th>\n",
       "      <th>rank5</th>\n",
       "      <th>diff4_2</th>\n",
       "      <th>diff11_5</th>\n",
       "      <th>diff11_2</th>\n",
       "      <th>rank12</th>\n",
       "      <th>diff5_4</th>\n",
       "      <th>diff4_3</th>\n",
       "      <th>diff12_11</th>\n",
       "      <th>diff12_1</th>\n",
       "    </tr>\n",
       "  </thead>\n",
       "  <tbody>\n",
       "    <tr>\n",
       "      <th>0</th>\n",
       "      <td>1</td>\n",
       "      <td>2</td>\n",
       "      <td>0</td>\n",
       "      <td>0</td>\n",
       "      <td>2</td>\n",
       "      <td>1</td>\n",
       "      <td>2</td>\n",
       "      <td>0</td>\n",
       "      <td>0</td>\n",
       "      <td>2</td>\n",
       "      <td>...</td>\n",
       "      <td>1</td>\n",
       "      <td>0</td>\n",
       "      <td>2</td>\n",
       "      <td>0</td>\n",
       "      <td>2</td>\n",
       "      <td>0</td>\n",
       "      <td>0</td>\n",
       "      <td>0</td>\n",
       "      <td>0</td>\n",
       "      <td>0</td>\n",
       "    </tr>\n",
       "    <tr>\n",
       "      <th>1</th>\n",
       "      <td>3</td>\n",
       "      <td>1</td>\n",
       "      <td>0</td>\n",
       "      <td>1</td>\n",
       "      <td>1</td>\n",
       "      <td>1</td>\n",
       "      <td>2</td>\n",
       "      <td>1</td>\n",
       "      <td>0</td>\n",
       "      <td>0</td>\n",
       "      <td>...</td>\n",
       "      <td>1</td>\n",
       "      <td>0</td>\n",
       "      <td>0</td>\n",
       "      <td>0</td>\n",
       "      <td>0</td>\n",
       "      <td>1</td>\n",
       "      <td>0</td>\n",
       "      <td>1</td>\n",
       "      <td>1</td>\n",
       "      <td>1</td>\n",
       "    </tr>\n",
       "    <tr>\n",
       "      <th>2</th>\n",
       "      <td>3</td>\n",
       "      <td>1</td>\n",
       "      <td>0</td>\n",
       "      <td>1</td>\n",
       "      <td>1</td>\n",
       "      <td>2</td>\n",
       "      <td>1</td>\n",
       "      <td>0</td>\n",
       "      <td>0</td>\n",
       "      <td>0</td>\n",
       "      <td>...</td>\n",
       "      <td>0</td>\n",
       "      <td>1</td>\n",
       "      <td>1</td>\n",
       "      <td>1</td>\n",
       "      <td>0</td>\n",
       "      <td>1</td>\n",
       "      <td>0</td>\n",
       "      <td>1</td>\n",
       "      <td>1</td>\n",
       "      <td>1</td>\n",
       "    </tr>\n",
       "    <tr>\n",
       "      <th>3</th>\n",
       "      <td>3</td>\n",
       "      <td>1</td>\n",
       "      <td>0</td>\n",
       "      <td>2</td>\n",
       "      <td>2</td>\n",
       "      <td>1</td>\n",
       "      <td>0</td>\n",
       "      <td>2</td>\n",
       "      <td>0</td>\n",
       "      <td>1</td>\n",
       "      <td>...</td>\n",
       "      <td>1</td>\n",
       "      <td>0</td>\n",
       "      <td>0</td>\n",
       "      <td>0</td>\n",
       "      <td>0</td>\n",
       "      <td>0</td>\n",
       "      <td>0</td>\n",
       "      <td>2</td>\n",
       "      <td>0</td>\n",
       "      <td>0</td>\n",
       "    </tr>\n",
       "    <tr>\n",
       "      <th>4</th>\n",
       "      <td>5</td>\n",
       "      <td>0</td>\n",
       "      <td>0</td>\n",
       "      <td>3</td>\n",
       "      <td>1</td>\n",
       "      <td>0</td>\n",
       "      <td>1</td>\n",
       "      <td>1</td>\n",
       "      <td>0</td>\n",
       "      <td>0</td>\n",
       "      <td>...</td>\n",
       "      <td>0</td>\n",
       "      <td>0</td>\n",
       "      <td>1</td>\n",
       "      <td>0</td>\n",
       "      <td>0</td>\n",
       "      <td>0</td>\n",
       "      <td>1</td>\n",
       "      <td>0</td>\n",
       "      <td>0</td>\n",
       "      <td>0</td>\n",
       "    </tr>\n",
       "  </tbody>\n",
       "</table>\n",
       "<p>5 rows × 43 columns</p>\n",
       "</div>"
      ],
      "text/plain": [
       "   rankCount1  rankCount2  rankCount3  suitCount3  suitCount2  suitCount1  \\\n",
       "0           1           2           0           0           2           1   \n",
       "1           3           1           0           1           1           1   \n",
       "2           3           1           0           1           1           2   \n",
       "3           3           1           0           2           2           1   \n",
       "4           5           0           0           3           1           0   \n",
       "\n",
       "   suitCount4  diff8_3  rankCount4  diff9_3    ...     diff9_6  rank5  \\\n",
       "0           2        0           0        2    ...           1      0   \n",
       "1           2        1           0        0    ...           1      0   \n",
       "2           1        0           0        0    ...           0      1   \n",
       "3           0        2           0        1    ...           1      0   \n",
       "4           1        1           0        0    ...           0      0   \n",
       "\n",
       "   diff4_2  diff11_5  diff11_2  rank12  diff5_4  diff4_3  diff12_11  diff12_1  \n",
       "0        2         0         2       0        0        0          0         0  \n",
       "1        0         0         0       1        0        1          1         1  \n",
       "2        1         1         0       1        0        1          1         1  \n",
       "3        0         0         0       0        0        2          0         0  \n",
       "4        1         0         0       0        1        0          0         0  \n",
       "\n",
       "[5 rows x 43 columns]"
      ]
     },
     "execution_count": 8,
     "metadata": {},
     "output_type": "execute_result"
    }
   ],
   "source": [
    "test_data.head()"
   ]
  },
  {
   "cell_type": "markdown",
   "metadata": {},
   "source": [
    "数据信息总览："
   ]
  },
  {
   "cell_type": "code",
   "execution_count": 9,
   "metadata": {
    "collapsed": false
   },
   "outputs": [
    {
     "name": "stdout",
     "output_type": "stream",
     "text": [
      "<class 'pandas.core.frame.DataFrame'>\n",
      "RangeIndex: 29710 entries, 0 to 29709\n",
      "Data columns (total 44 columns):\n",
      "rankCount1    29710 non-null int64\n",
      "rankCount2    29710 non-null int64\n",
      "rankCount3    29710 non-null int64\n",
      "suitCount3    29710 non-null int64\n",
      "suitCount2    29710 non-null int64\n",
      "suitCount1    29710 non-null int64\n",
      "suitCount4    29710 non-null int64\n",
      "diff8_3       29710 non-null int64\n",
      "rankCount4    29710 non-null int64\n",
      "diff9_3       29710 non-null int64\n",
      "diff9_4       29710 non-null int64\n",
      "diff9_2       29710 non-null int64\n",
      "diff10_5      29710 non-null int64\n",
      "diff9_8       29710 non-null int64\n",
      "diff10_9      29710 non-null int64\n",
      "diff8_4       29710 non-null int64\n",
      "diff11_3      29710 non-null int64\n",
      "diff8_2       29710 non-null int64\n",
      "diff3_1       29710 non-null int64\n",
      "diff3_2       29710 non-null int64\n",
      "diff7_1       29710 non-null int64\n",
      "diff13_8      29710 non-null int64\n",
      "diff12_7      29710 non-null int64\n",
      "diff11_6      29710 non-null int64\n",
      "diff7_2       29710 non-null int64\n",
      "diff6_1       29710 non-null int64\n",
      "diff13_9      29710 non-null int64\n",
      "diff12_8      29710 non-null int64\n",
      "diff8_6       29710 non-null int64\n",
      "rank8         29710 non-null int64\n",
      "diff11_1      29710 non-null int64\n",
      "rank11        29710 non-null int64\n",
      "diff13_12     29710 non-null int64\n",
      "diff9_6       29710 non-null int64\n",
      "rank5         29710 non-null int64\n",
      "diff4_2       29710 non-null int64\n",
      "diff11_5      29710 non-null int64\n",
      "diff11_2      29710 non-null int64\n",
      "rank12        29710 non-null int64\n",
      "diff5_4       29710 non-null int64\n",
      "diff4_3       29710 non-null int64\n",
      "diff12_11     29710 non-null int64\n",
      "diff12_1      29710 non-null int64\n",
      "hand          29710 non-null int64\n",
      "dtypes: int64(44)\n",
      "memory usage: 10.0 MB\n"
     ]
    }
   ],
   "source": [
    "train_data.info()"
   ]
  },
  {
   "cell_type": "code",
   "execution_count": 10,
   "metadata": {
    "collapsed": false
   },
   "outputs": [
    {
     "name": "stdout",
     "output_type": "stream",
     "text": [
      "<class 'pandas.core.frame.DataFrame'>\n",
      "RangeIndex: 1000000 entries, 0 to 999999\n",
      "Data columns (total 43 columns):\n",
      "rankCount1    1000000 non-null int64\n",
      "rankCount2    1000000 non-null int64\n",
      "rankCount3    1000000 non-null int64\n",
      "suitCount3    1000000 non-null int64\n",
      "suitCount2    1000000 non-null int64\n",
      "suitCount1    1000000 non-null int64\n",
      "suitCount4    1000000 non-null int64\n",
      "diff8_3       1000000 non-null int64\n",
      "rankCount4    1000000 non-null int64\n",
      "diff9_3       1000000 non-null int64\n",
      "diff9_4       1000000 non-null int64\n",
      "diff9_2       1000000 non-null int64\n",
      "diff10_5      1000000 non-null int64\n",
      "diff9_8       1000000 non-null int64\n",
      "diff10_9      1000000 non-null int64\n",
      "diff8_4       1000000 non-null int64\n",
      "diff11_3      1000000 non-null int64\n",
      "diff8_2       1000000 non-null int64\n",
      "diff3_1       1000000 non-null int64\n",
      "diff3_2       1000000 non-null int64\n",
      "diff7_1       1000000 non-null int64\n",
      "diff13_8      1000000 non-null int64\n",
      "diff12_7      1000000 non-null int64\n",
      "diff11_6      1000000 non-null int64\n",
      "diff7_2       1000000 non-null int64\n",
      "diff6_1       1000000 non-null int64\n",
      "diff13_9      1000000 non-null int64\n",
      "diff12_8      1000000 non-null int64\n",
      "diff8_6       1000000 non-null int64\n",
      "rank8         1000000 non-null int64\n",
      "diff11_1      1000000 non-null int64\n",
      "rank11        1000000 non-null int64\n",
      "diff13_12     1000000 non-null int64\n",
      "diff9_6       1000000 non-null int64\n",
      "rank5         1000000 non-null int64\n",
      "diff4_2       1000000 non-null int64\n",
      "diff11_5      1000000 non-null int64\n",
      "diff11_2      1000000 non-null int64\n",
      "rank12        1000000 non-null int64\n",
      "diff5_4       1000000 non-null int64\n",
      "diff4_3       1000000 non-null int64\n",
      "diff12_11     1000000 non-null int64\n",
      "diff12_1      1000000 non-null int64\n",
      "dtypes: int64(43)\n",
      "memory usage: 328.1 MB\n"
     ]
    }
   ],
   "source": [
    "test_data.info()"
   ]
  },
  {
   "cell_type": "markdown",
   "metadata": {},
   "source": [
    "从上面的数据我们可以看出training-final（train_data）有11列，共6000条数据，无缺失数据；Semifinal-testing-final（test_data）有10列，共1000000条数据，无缺失数据。"
   ]
  },
  {
   "cell_type": "code",
   "execution_count": 11,
   "metadata": {
    "collapsed": true
   },
   "outputs": [],
   "source": [
    "train_data_X = train_data.drop(['hand'],axis=1)\n",
    "train_data_Y = train_data.hand\n",
    "test_data_X = test_data\n"
   ]
  },
  {
   "cell_type": "markdown",
   "metadata": {},
   "source": [
    "# 2. 模型的融合及预测"
   ]
  },
  {
   "cell_type": "markdown",
   "metadata": {},
   "source": [
    "## 2.1 模型融合"
   ]
  },
  {
   "cell_type": "markdown",
   "metadata": {},
   "source": [
    "常见的模型融合方法有：Bagging、Boosting、Stacking、Blending。"
   ]
  },
  {
   "cell_type": "markdown",
   "metadata": {},
   "source": [
    "### 2.1.1 Bagging"
   ]
  },
  {
   "cell_type": "markdown",
   "metadata": {},
   "source": [
    "Bagging将多个模型，也就是基学习器的预测结果进行简单的加权平均或者投票。它的好处是可以并行地训练基学习器。Random Forest就用到了Bagging的思想。"
   ]
  },
  {
   "cell_type": "markdown",
   "metadata": {},
   "source": [
    "### 2.1.2 Boosting"
   ]
  },
  {
   "cell_type": "markdown",
   "metadata": {},
   "source": [
    "Boosting的思想有点像知错能改，每个基学习器是在上一个基学习器学习的基础上，对上一个基学习器的错误进行弥补。我们将会用到的AdaBoost，Gradient Boost就用到了这种思想。"
   ]
  },
  {
   "cell_type": "markdown",
   "metadata": {},
   "source": [
    "### 2.1.3 Stacking"
   ]
  },
  {
   "cell_type": "markdown",
   "metadata": {},
   "source": [
    "Stacking是用新的次学习器去学习如何组合上一层的基学习器。如果把Bagging看作是多个基分类器的线性组合，那么Stacking就是多个基分类器的非线性组合。Stacking可以将学习器一层一层地堆砌起来，形成一个网状的结构。\n",
    "相比来说Stacking的融合框架相对前面二者来说在精度上确实有一定的提升，所以在下面的模型融合上，我们也使用Stacking方法。"
   ]
  },
  {
   "cell_type": "markdown",
   "metadata": {},
   "source": [
    "### 2.1.4 Blending"
   ]
  },
  {
   "cell_type": "markdown",
   "metadata": {},
   "source": [
    "Blending和Stacking很相似，但同时它可以防止信息泄露的问题。"
   ]
  },
  {
   "cell_type": "markdown",
   "metadata": {},
   "source": [
    "Stacking框架融合：这里我们使用了两层的模型融合"
   ]
  },
  {
   "cell_type": "markdown",
   "metadata": {},
   "source": [
    "Level 1使用了：Random Forest、AdaBoost、ExtraTrees、GBDT、Decision Tree、KNN、SVM，一共7个模型"
   ]
  },
  {
   "cell_type": "markdown",
   "metadata": {},
   "source": [
    "Level 2使用了XGBoost，使用第一层预测的结果作为特征对最终的结果进行预测。"
   ]
  },
  {
   "cell_type": "markdown",
   "metadata": {},
   "source": [
    "Level 1："
   ]
  },
  {
   "cell_type": "markdown",
   "metadata": {},
   "source": [
    "Stacking框架是堆叠使用基础分类器的预测作为对二级模型的训练的输入。然而，我们不能简单地在全部训练数据上训练基本模型，产生预测，输出用于第二层的训练。如果我们在Train Data上训练，然后在Train Data上预测，就会造成标签。为了避免标签，我们需要对每个基学习器使用K-fold，将Kge模型对Valid Set的预测结果拼起来，作为下一层学习器的输入。"
   ]
  },
  {
   "cell_type": "markdown",
   "metadata": {},
   "source": [
    "所以这里我们建立输出fold预测方法："
   ]
  },
  {
   "cell_type": "code",
   "execution_count": 12,
   "metadata": {
    "collapsed": true
   },
   "outputs": [],
   "source": [
    "from sklearn.model_selection import KFold\n",
    " \n",
    "# Some useful parameters which will come in handy later on\n",
    "ntrain = train_data_X.shape[0]\n",
    "ntest = test_data_X.shape[0]\n",
    "SEED = 0 #for reproducibility\n",
    "NFOLDS = 7 # set folds for out-of-fold prediction\n",
    "kf = KFold(n_splits = NFOLDS,random_state=SEED,shuffle=False)\n",
    " \n",
    "def get_out_fold(clf,x_train,y_train,x_test):\n",
    "    oof_train = np.zeros((ntrain,))\n",
    "    oof_test = np.zeros((ntest,))\n",
    "    oof_test_skf = np.empty((NFOLDS,ntest))\n",
    "    \n",
    "    for i, (train_index,test_index) in enumerate(kf.split(x_train)):\n",
    "        x_tr = x_train[train_index]\n",
    "        y_tr = y_train[train_index]\n",
    "        x_te = x_train[test_index]\n",
    "        \n",
    "        clf.fit(x_tr,y_tr)\n",
    "        \n",
    "        oof_train[test_index] = clf.predict(x_te)\n",
    "        oof_test_skf[i,:] = clf.predict(x_test)\n",
    "        \n",
    "    oof_test[:] = oof_test_skf.mean(axis=0)\n",
    "    return oof_train.reshape(-1,1),oof_test.reshape(-1,1)"
   ]
  },
  {
   "cell_type": "markdown",
   "metadata": {},
   "source": [
    "构建不同的基学习器，这里我们使用了RandomForest、AdaBoost、ExtraTrees、DecisionTree、SVM七个基学习器：（这里的模型可以使用如上面的GridSearch方法对模型的超参数进行搜索选择"
   ]
  },
  {
   "cell_type": "code",
   "execution_count": 13,
   "metadata": {
    "collapsed": true
   },
   "outputs": [],
   "source": [
    "from sklearn.neural_network import MLPClassifier\n",
    "from sklearn.neighbors import KNeighborsClassifier\n",
    "from sklearn.svm import SVC\n",
    "from sklearn.ensemble import RandomForestClassifier\n",
    "from sklearn.ensemble import ExtraTreesClassifier\n",
    "from sklearn.ensemble import GradientBoostingClassifier\n",
    "from sklearn.tree import DecisionTreeClassifier\n",
    "\n",
    "mlp = MLPClassifier(hidden_layer_sizes=(50, 50, 15), solver='adam', activation='tanh', alpha = 0.0001, learning_rate_init=0.001, max_iter=400)\n",
    "\n",
    "rf = RandomForestClassifier(max_depth=32,min_samples_split=3,min_samples_leaf=2,verbose=0)\n",
    "\n",
    "et = ExtraTreesClassifier(n_estimators=150,max_depth=15,min_samples_leaf=2,verbose=0)\n",
    "\n",
    "dt = DecisionTreeClassifier(max_depth=17)\n",
    "\n",
    "svm = SVC(kernel='rbf', gamma=0.1, C=1)\n"
   ]
  },
  {
   "cell_type": "markdown",
   "metadata": {
    "collapsed": true
   },
   "source": [
    "将pandas转换为arrays"
   ]
  },
  {
   "cell_type": "code",
   "execution_count": 14,
   "metadata": {
    "collapsed": false
   },
   "outputs": [],
   "source": [
    "# Create Numpy arrays of train,test and target(Survived) dataframes to feed into our models\n",
    "x_train = train_data_X.values   #Creates an array of the train data\n",
    "x_test =  test_data_X.values   #Creates an array of the test data\n",
    "y_train = train_data_Y"
   ]
  },
  {
   "cell_type": "code",
   "execution_count": 15,
   "metadata": {
    "collapsed": false
   },
   "outputs": [
    {
     "name": "stdout",
     "output_type": "stream",
     "text": [
      "Training is complete\n"
     ]
    }
   ],
   "source": [
    "# Create our OOF train and test predictions.These base result will be used as new featurs\n",
    "mlp_oof_train,mlp_oof_test = get_out_fold(mlp,x_train,y_train,x_test)  # MLP\n",
    "rf_oof_train,rf_oof_test = get_out_fold(rf,x_train,y_train,x_test)  # Random Forest\n",
    "et_oof_train,et_oof_test = get_out_fold(et,x_train,y_train,x_test)  # Extra Trees\n",
    "dt_oof_train,dt_oof_test = get_out_fold(dt,x_train,y_train,x_test)  #Decision Tree\n",
    "svm_oof_train,svm_oof_test = get_out_fold(svm,x_train,y_train,x_test)  # Support Vector\n",
    " \n",
    "print(\"Training is complete\")\n"
   ]
  },
  {
   "cell_type": "markdown",
   "metadata": {},
   "source": [
    "## 2.2 预测并生成提交文件"
   ]
  },
  {
   "cell_type": "markdown",
   "metadata": {},
   "source": [
    "Level 2： 我们利用XGBoost，使用第一层预测的结果作为特征对最终的结果进行预测。"
   ]
  },
  {
   "cell_type": "code",
   "execution_count": 16,
   "metadata": {
    "collapsed": true
   },
   "outputs": [],
   "source": [
    "x_train = np.concatenate((mlp_oof_train,rf_oof_train,et_oof_train,dt_oof_train,svm_oof_train),axis=1)\n",
    "x_test =np.concatenate((mlp_oof_test,rf_oof_test,et_oof_test,dt_oof_test,svm_oof_test),axis=1)\n",
    " "
   ]
  },
  {
   "cell_type": "code",
   "execution_count": 25,
   "metadata": {
    "collapsed": false
   },
   "outputs": [
    {
     "name": "stderr",
     "output_type": "stream",
     "text": [
      "D:\\Anaconda2\\lib\\site-packages\\sklearn\\preprocessing\\label.py:151: DeprecationWarning: The truth value of an empty array is ambiguous. Returning False, but in future this will result in an error. Use `array.size > 0` to check that an array is not empty.\n",
      "  if diff:\n"
     ]
    }
   ],
   "source": [
    "from xgboost import XGBClassifier\n",
    " \n",
    "gbm = XGBClassifier(objective='multi:softmax ', num_class='multi:softprob')\n",
    "gbm.fit(x_train,y_train)\n",
    "predictions = gbm.predict(x_test)"
   ]
  },
  {
   "cell_type": "code",
   "execution_count": 26,
   "metadata": {
    "collapsed": true
   },
   "outputs": [],
   "source": [
    "result = pd.DataFrame(predictions)"
   ]
  },
  {
   "cell_type": "code",
   "execution_count": 27,
   "metadata": {
    "collapsed": false
   },
   "outputs": [
    {
     "data": {
      "text/html": [
       "<div>\n",
       "<style>\n",
       "    .dataframe thead tr:only-child th {\n",
       "        text-align: right;\n",
       "    }\n",
       "\n",
       "    .dataframe thead th {\n",
       "        text-align: left;\n",
       "    }\n",
       "\n",
       "    .dataframe tbody tr th {\n",
       "        vertical-align: top;\n",
       "    }\n",
       "</style>\n",
       "<table border=\"1\" class=\"dataframe\">\n",
       "  <thead>\n",
       "    <tr style=\"text-align: right;\">\n",
       "      <th></th>\n",
       "      <th>0</th>\n",
       "    </tr>\n",
       "  </thead>\n",
       "  <tbody>\n",
       "    <tr>\n",
       "      <th>0</th>\n",
       "      <td>4</td>\n",
       "    </tr>\n",
       "    <tr>\n",
       "      <th>1</th>\n",
       "      <td>8</td>\n",
       "    </tr>\n",
       "    <tr>\n",
       "      <th>2</th>\n",
       "      <td>8</td>\n",
       "    </tr>\n",
       "    <tr>\n",
       "      <th>3</th>\n",
       "      <td>8</td>\n",
       "    </tr>\n",
       "    <tr>\n",
       "      <th>4</th>\n",
       "      <td>0</td>\n",
       "    </tr>\n",
       "    <tr>\n",
       "      <th>5</th>\n",
       "      <td>0</td>\n",
       "    </tr>\n",
       "    <tr>\n",
       "      <th>6</th>\n",
       "      <td>0</td>\n",
       "    </tr>\n",
       "    <tr>\n",
       "      <th>7</th>\n",
       "      <td>8</td>\n",
       "    </tr>\n",
       "    <tr>\n",
       "      <th>8</th>\n",
       "      <td>0</td>\n",
       "    </tr>\n",
       "    <tr>\n",
       "      <th>9</th>\n",
       "      <td>8</td>\n",
       "    </tr>\n",
       "    <tr>\n",
       "      <th>10</th>\n",
       "      <td>0</td>\n",
       "    </tr>\n",
       "    <tr>\n",
       "      <th>11</th>\n",
       "      <td>8</td>\n",
       "    </tr>\n",
       "    <tr>\n",
       "      <th>12</th>\n",
       "      <td>8</td>\n",
       "    </tr>\n",
       "    <tr>\n",
       "      <th>13</th>\n",
       "      <td>0</td>\n",
       "    </tr>\n",
       "    <tr>\n",
       "      <th>14</th>\n",
       "      <td>0</td>\n",
       "    </tr>\n",
       "    <tr>\n",
       "      <th>15</th>\n",
       "      <td>0</td>\n",
       "    </tr>\n",
       "    <tr>\n",
       "      <th>16</th>\n",
       "      <td>0</td>\n",
       "    </tr>\n",
       "    <tr>\n",
       "      <th>17</th>\n",
       "      <td>0</td>\n",
       "    </tr>\n",
       "    <tr>\n",
       "      <th>18</th>\n",
       "      <td>0</td>\n",
       "    </tr>\n",
       "    <tr>\n",
       "      <th>19</th>\n",
       "      <td>0</td>\n",
       "    </tr>\n",
       "    <tr>\n",
       "      <th>20</th>\n",
       "      <td>8</td>\n",
       "    </tr>\n",
       "    <tr>\n",
       "      <th>21</th>\n",
       "      <td>0</td>\n",
       "    </tr>\n",
       "    <tr>\n",
       "      <th>22</th>\n",
       "      <td>8</td>\n",
       "    </tr>\n",
       "    <tr>\n",
       "      <th>23</th>\n",
       "      <td>0</td>\n",
       "    </tr>\n",
       "    <tr>\n",
       "      <th>24</th>\n",
       "      <td>0</td>\n",
       "    </tr>\n",
       "    <tr>\n",
       "      <th>25</th>\n",
       "      <td>0</td>\n",
       "    </tr>\n",
       "    <tr>\n",
       "      <th>26</th>\n",
       "      <td>8</td>\n",
       "    </tr>\n",
       "    <tr>\n",
       "      <th>27</th>\n",
       "      <td>0</td>\n",
       "    </tr>\n",
       "    <tr>\n",
       "      <th>28</th>\n",
       "      <td>0</td>\n",
       "    </tr>\n",
       "    <tr>\n",
       "      <th>29</th>\n",
       "      <td>8</td>\n",
       "    </tr>\n",
       "    <tr>\n",
       "      <th>...</th>\n",
       "      <td>...</td>\n",
       "    </tr>\n",
       "    <tr>\n",
       "      <th>999970</th>\n",
       "      <td>1</td>\n",
       "    </tr>\n",
       "    <tr>\n",
       "      <th>999971</th>\n",
       "      <td>0</td>\n",
       "    </tr>\n",
       "    <tr>\n",
       "      <th>999972</th>\n",
       "      <td>8</td>\n",
       "    </tr>\n",
       "    <tr>\n",
       "      <th>999973</th>\n",
       "      <td>8</td>\n",
       "    </tr>\n",
       "    <tr>\n",
       "      <th>999974</th>\n",
       "      <td>8</td>\n",
       "    </tr>\n",
       "    <tr>\n",
       "      <th>999975</th>\n",
       "      <td>0</td>\n",
       "    </tr>\n",
       "    <tr>\n",
       "      <th>999976</th>\n",
       "      <td>0</td>\n",
       "    </tr>\n",
       "    <tr>\n",
       "      <th>999977</th>\n",
       "      <td>8</td>\n",
       "    </tr>\n",
       "    <tr>\n",
       "      <th>999978</th>\n",
       "      <td>0</td>\n",
       "    </tr>\n",
       "    <tr>\n",
       "      <th>999979</th>\n",
       "      <td>8</td>\n",
       "    </tr>\n",
       "    <tr>\n",
       "      <th>999980</th>\n",
       "      <td>8</td>\n",
       "    </tr>\n",
       "    <tr>\n",
       "      <th>999981</th>\n",
       "      <td>9</td>\n",
       "    </tr>\n",
       "    <tr>\n",
       "      <th>999982</th>\n",
       "      <td>0</td>\n",
       "    </tr>\n",
       "    <tr>\n",
       "      <th>999983</th>\n",
       "      <td>8</td>\n",
       "    </tr>\n",
       "    <tr>\n",
       "      <th>999984</th>\n",
       "      <td>8</td>\n",
       "    </tr>\n",
       "    <tr>\n",
       "      <th>999985</th>\n",
       "      <td>0</td>\n",
       "    </tr>\n",
       "    <tr>\n",
       "      <th>999986</th>\n",
       "      <td>8</td>\n",
       "    </tr>\n",
       "    <tr>\n",
       "      <th>999987</th>\n",
       "      <td>8</td>\n",
       "    </tr>\n",
       "    <tr>\n",
       "      <th>999988</th>\n",
       "      <td>8</td>\n",
       "    </tr>\n",
       "    <tr>\n",
       "      <th>999989</th>\n",
       "      <td>8</td>\n",
       "    </tr>\n",
       "    <tr>\n",
       "      <th>999990</th>\n",
       "      <td>0</td>\n",
       "    </tr>\n",
       "    <tr>\n",
       "      <th>999991</th>\n",
       "      <td>0</td>\n",
       "    </tr>\n",
       "    <tr>\n",
       "      <th>999992</th>\n",
       "      <td>0</td>\n",
       "    </tr>\n",
       "    <tr>\n",
       "      <th>999993</th>\n",
       "      <td>0</td>\n",
       "    </tr>\n",
       "    <tr>\n",
       "      <th>999994</th>\n",
       "      <td>8</td>\n",
       "    </tr>\n",
       "    <tr>\n",
       "      <th>999995</th>\n",
       "      <td>0</td>\n",
       "    </tr>\n",
       "    <tr>\n",
       "      <th>999996</th>\n",
       "      <td>0</td>\n",
       "    </tr>\n",
       "    <tr>\n",
       "      <th>999997</th>\n",
       "      <td>8</td>\n",
       "    </tr>\n",
       "    <tr>\n",
       "      <th>999998</th>\n",
       "      <td>0</td>\n",
       "    </tr>\n",
       "    <tr>\n",
       "      <th>999999</th>\n",
       "      <td>8</td>\n",
       "    </tr>\n",
       "  </tbody>\n",
       "</table>\n",
       "<p>1000000 rows × 1 columns</p>\n",
       "</div>"
      ],
      "text/plain": [
       "        0\n",
       "0       4\n",
       "1       8\n",
       "2       8\n",
       "3       8\n",
       "4       0\n",
       "5       0\n",
       "6       0\n",
       "7       8\n",
       "8       0\n",
       "9       8\n",
       "10      0\n",
       "11      8\n",
       "12      8\n",
       "13      0\n",
       "14      0\n",
       "15      0\n",
       "16      0\n",
       "17      0\n",
       "18      0\n",
       "19      0\n",
       "20      8\n",
       "21      0\n",
       "22      8\n",
       "23      0\n",
       "24      0\n",
       "25      0\n",
       "26      8\n",
       "27      0\n",
       "28      0\n",
       "29      8\n",
       "...    ..\n",
       "999970  1\n",
       "999971  0\n",
       "999972  8\n",
       "999973  8\n",
       "999974  8\n",
       "999975  0\n",
       "999976  0\n",
       "999977  8\n",
       "999978  0\n",
       "999979  8\n",
       "999980  8\n",
       "999981  9\n",
       "999982  0\n",
       "999983  8\n",
       "999984  8\n",
       "999985  0\n",
       "999986  8\n",
       "999987  8\n",
       "999988  8\n",
       "999989  8\n",
       "999990  0\n",
       "999991  0\n",
       "999992  0\n",
       "999993  0\n",
       "999994  8\n",
       "999995  0\n",
       "999996  0\n",
       "999997  8\n",
       "999998  0\n",
       "999999  8\n",
       "\n",
       "[1000000 rows x 1 columns]"
      ]
     },
     "execution_count": 27,
     "metadata": {},
     "output_type": "execute_result"
    }
   ],
   "source": [
    "result"
   ]
  },
  {
   "cell_type": "code",
   "execution_count": 28,
   "metadata": {
    "collapsed": true
   },
   "outputs": [],
   "source": [
    "result_1 = result[0].apply(int)"
   ]
  },
  {
   "cell_type": "code",
   "execution_count": 29,
   "metadata": {
    "collapsed": true
   },
   "outputs": [],
   "source": [
    "result_2 = pd.DataFrame(result_1)"
   ]
  },
  {
   "cell_type": "code",
   "execution_count": 30,
   "metadata": {
    "collapsed": true
   },
   "outputs": [],
   "source": [
    "# 将预测的结果写入txt文件当中\n",
    "result_2.to_csv('H://data.txt', index=False, header=False)"
   ]
  },
  {
   "cell_type": "code",
   "execution_count": null,
   "metadata": {
    "collapsed": true
   },
   "outputs": [],
   "source": []
  }
 ],
 "metadata": {
  "anaconda-cloud": {},
  "kernelspec": {
   "display_name": "Python [Root]",
   "language": "python",
   "name": "Python [Root]"
  },
  "language_info": {
   "codemirror_mode": {
    "name": "ipython",
    "version": 2
   },
   "file_extension": ".py",
   "mimetype": "text/x-python",
   "name": "python",
   "nbconvert_exporter": "python",
   "pygments_lexer": "ipython2",
   "version": "2.7.12"
  }
 },
 "nbformat": 4,
 "nbformat_minor": 0
}
