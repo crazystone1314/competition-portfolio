{
 "cells": [
  {
   "cell_type": "code",
   "execution_count": 1,
   "metadata": {
    "collapsed": true
   },
   "outputs": [],
   "source": [
    "import numpy as np\n",
    "import pandas as pd "
   ]
  },
  {
   "cell_type": "code",
   "execution_count": 2,
   "metadata": {
    "collapsed": true
   },
   "outputs": [],
   "source": [
    "# 引入工程所需要的库\n",
    "from pyecharts import online\n",
    "online() # 使用远程 jshost"
   ]
  },
  {
   "cell_type": "code",
   "execution_count": 3,
   "metadata": {
    "collapsed": true
   },
   "outputs": [],
   "source": [
    "import matplotlib as mpl\n",
    "import matplotlib.pyplot as plt\n",
    "%matplotlib inline "
   ]
  },
  {
   "cell_type": "markdown",
   "metadata": {},
   "source": [
    "# 1. 数据总览"
   ]
  },
  {
   "cell_type": "markdown",
   "metadata": {},
   "source": [
    "## 1.1 加载数据"
   ]
  },
  {
   "cell_type": "code",
   "execution_count": 4,
   "metadata": {
    "collapsed": false
   },
   "outputs": [],
   "source": [
    "# 原始数据路径\n",
    "train_path = 'H://train_data.csv'\n",
    "importance_feature_path = 'H://importance_feature_data.csv'\n",
    "columns = pd.read_csv(importance_feature_path)\n",
    "\n",
    "# 读取原始数据\n",
    "# train_data-final数据\n",
    "train_data = pd.read_csv(train_path)\n",
    "train_data = train_data[list(columns['importance_feature'].values)+['hand']]"
   ]
  },
  {
   "cell_type": "code",
   "execution_count": 5,
   "metadata": {
    "collapsed": false
   },
   "outputs": [
    {
     "data": {
      "text/plain": [
       "(29710, 44)"
      ]
     },
     "execution_count": 5,
     "metadata": {},
     "output_type": "execute_result"
    }
   ],
   "source": [
    "train_data.shape"
   ]
  },
  {
   "cell_type": "markdown",
   "metadata": {},
   "source": [
    "观察前几行的源数据："
   ]
  },
  {
   "cell_type": "code",
   "execution_count": 6,
   "metadata": {
    "collapsed": false
   },
   "outputs": [
    {
     "data": {
      "text/html": [
       "<div>\n",
       "<style>\n",
       "    .dataframe thead tr:only-child th {\n",
       "        text-align: right;\n",
       "    }\n",
       "\n",
       "    .dataframe thead th {\n",
       "        text-align: left;\n",
       "    }\n",
       "\n",
       "    .dataframe tbody tr th {\n",
       "        vertical-align: top;\n",
       "    }\n",
       "</style>\n",
       "<table border=\"1\" class=\"dataframe\">\n",
       "  <thead>\n",
       "    <tr style=\"text-align: right;\">\n",
       "      <th></th>\n",
       "      <th>rankCount1</th>\n",
       "      <th>rankCount2</th>\n",
       "      <th>rankCount3</th>\n",
       "      <th>suitCount3</th>\n",
       "      <th>suitCount2</th>\n",
       "      <th>suitCount1</th>\n",
       "      <th>suitCount4</th>\n",
       "      <th>diff8_3</th>\n",
       "      <th>rankCount4</th>\n",
       "      <th>diff9_3</th>\n",
       "      <th>...</th>\n",
       "      <th>rank5</th>\n",
       "      <th>diff4_2</th>\n",
       "      <th>diff11_5</th>\n",
       "      <th>diff11_2</th>\n",
       "      <th>rank12</th>\n",
       "      <th>diff5_4</th>\n",
       "      <th>diff4_3</th>\n",
       "      <th>diff12_11</th>\n",
       "      <th>diff12_1</th>\n",
       "      <th>hand</th>\n",
       "    </tr>\n",
       "  </thead>\n",
       "  <tbody>\n",
       "    <tr>\n",
       "      <th>0</th>\n",
       "      <td>5</td>\n",
       "      <td>0</td>\n",
       "      <td>0</td>\n",
       "      <td>5</td>\n",
       "      <td>0</td>\n",
       "      <td>0</td>\n",
       "      <td>0</td>\n",
       "      <td>0</td>\n",
       "      <td>0</td>\n",
       "      <td>0</td>\n",
       "      <td>...</td>\n",
       "      <td>0</td>\n",
       "      <td>0</td>\n",
       "      <td>1</td>\n",
       "      <td>1</td>\n",
       "      <td>1</td>\n",
       "      <td>0</td>\n",
       "      <td>0</td>\n",
       "      <td>0</td>\n",
       "      <td>0</td>\n",
       "      <td>1</td>\n",
       "    </tr>\n",
       "    <tr>\n",
       "      <th>1</th>\n",
       "      <td>5</td>\n",
       "      <td>0</td>\n",
       "      <td>0</td>\n",
       "      <td>0</td>\n",
       "      <td>0</td>\n",
       "      <td>0</td>\n",
       "      <td>5</td>\n",
       "      <td>0</td>\n",
       "      <td>0</td>\n",
       "      <td>0</td>\n",
       "      <td>...</td>\n",
       "      <td>0</td>\n",
       "      <td>0</td>\n",
       "      <td>1</td>\n",
       "      <td>1</td>\n",
       "      <td>1</td>\n",
       "      <td>0</td>\n",
       "      <td>0</td>\n",
       "      <td>0</td>\n",
       "      <td>0</td>\n",
       "      <td>1</td>\n",
       "    </tr>\n",
       "    <tr>\n",
       "      <th>2</th>\n",
       "      <td>5</td>\n",
       "      <td>0</td>\n",
       "      <td>0</td>\n",
       "      <td>0</td>\n",
       "      <td>5</td>\n",
       "      <td>0</td>\n",
       "      <td>0</td>\n",
       "      <td>0</td>\n",
       "      <td>0</td>\n",
       "      <td>0</td>\n",
       "      <td>...</td>\n",
       "      <td>0</td>\n",
       "      <td>0</td>\n",
       "      <td>1</td>\n",
       "      <td>1</td>\n",
       "      <td>1</td>\n",
       "      <td>0</td>\n",
       "      <td>0</td>\n",
       "      <td>0</td>\n",
       "      <td>0</td>\n",
       "      <td>1</td>\n",
       "    </tr>\n",
       "    <tr>\n",
       "      <th>3</th>\n",
       "      <td>5</td>\n",
       "      <td>0</td>\n",
       "      <td>0</td>\n",
       "      <td>0</td>\n",
       "      <td>0</td>\n",
       "      <td>5</td>\n",
       "      <td>0</td>\n",
       "      <td>0</td>\n",
       "      <td>0</td>\n",
       "      <td>0</td>\n",
       "      <td>...</td>\n",
       "      <td>0</td>\n",
       "      <td>0</td>\n",
       "      <td>1</td>\n",
       "      <td>1</td>\n",
       "      <td>1</td>\n",
       "      <td>0</td>\n",
       "      <td>0</td>\n",
       "      <td>0</td>\n",
       "      <td>0</td>\n",
       "      <td>1</td>\n",
       "    </tr>\n",
       "    <tr>\n",
       "      <th>4</th>\n",
       "      <td>5</td>\n",
       "      <td>0</td>\n",
       "      <td>0</td>\n",
       "      <td>0</td>\n",
       "      <td>0</td>\n",
       "      <td>5</td>\n",
       "      <td>0</td>\n",
       "      <td>0</td>\n",
       "      <td>0</td>\n",
       "      <td>0</td>\n",
       "      <td>...</td>\n",
       "      <td>0</td>\n",
       "      <td>0</td>\n",
       "      <td>1</td>\n",
       "      <td>1</td>\n",
       "      <td>1</td>\n",
       "      <td>0</td>\n",
       "      <td>0</td>\n",
       "      <td>0</td>\n",
       "      <td>0</td>\n",
       "      <td>1</td>\n",
       "    </tr>\n",
       "  </tbody>\n",
       "</table>\n",
       "<p>5 rows × 44 columns</p>\n",
       "</div>"
      ],
      "text/plain": [
       "   rankCount1  rankCount2  rankCount3  suitCount3  suitCount2  suitCount1  \\\n",
       "0           5           0           0           5           0           0   \n",
       "1           5           0           0           0           0           0   \n",
       "2           5           0           0           0           5           0   \n",
       "3           5           0           0           0           0           5   \n",
       "4           5           0           0           0           0           5   \n",
       "\n",
       "   suitCount4  diff8_3  rankCount4  diff9_3  ...   rank5  diff4_2  diff11_5  \\\n",
       "0           0        0           0        0  ...       0        0         1   \n",
       "1           5        0           0        0  ...       0        0         1   \n",
       "2           0        0           0        0  ...       0        0         1   \n",
       "3           0        0           0        0  ...       0        0         1   \n",
       "4           0        0           0        0  ...       0        0         1   \n",
       "\n",
       "   diff11_2  rank12  diff5_4  diff4_3  diff12_11  diff12_1  hand  \n",
       "0         1       1        0        0          0         0     1  \n",
       "1         1       1        0        0          0         0     1  \n",
       "2         1       1        0        0          0         0     1  \n",
       "3         1       1        0        0          0         0     1  \n",
       "4         1       1        0        0          0         0     1  \n",
       "\n",
       "[5 rows x 44 columns]"
      ]
     },
     "execution_count": 6,
     "metadata": {},
     "output_type": "execute_result"
    }
   ],
   "source": [
    "train_data.head()"
   ]
  },
  {
   "cell_type": "markdown",
   "metadata": {},
   "source": [
    "数据信息总览："
   ]
  },
  {
   "cell_type": "code",
   "execution_count": 7,
   "metadata": {
    "collapsed": false
   },
   "outputs": [
    {
     "name": "stdout",
     "output_type": "stream",
     "text": [
      "<class 'pandas.core.frame.DataFrame'>\n",
      "RangeIndex: 29710 entries, 0 to 29709\n",
      "Data columns (total 44 columns):\n",
      "rankCount1    29710 non-null int64\n",
      "rankCount2    29710 non-null int64\n",
      "rankCount3    29710 non-null int64\n",
      "suitCount3    29710 non-null int64\n",
      "suitCount2    29710 non-null int64\n",
      "suitCount1    29710 non-null int64\n",
      "suitCount4    29710 non-null int64\n",
      "diff8_3       29710 non-null int64\n",
      "rankCount4    29710 non-null int64\n",
      "diff9_3       29710 non-null int64\n",
      "diff9_4       29710 non-null int64\n",
      "diff9_2       29710 non-null int64\n",
      "diff10_5      29710 non-null int64\n",
      "diff9_8       29710 non-null int64\n",
      "diff10_9      29710 non-null int64\n",
      "diff8_4       29710 non-null int64\n",
      "diff11_3      29710 non-null int64\n",
      "diff8_2       29710 non-null int64\n",
      "diff3_1       29710 non-null int64\n",
      "diff3_2       29710 non-null int64\n",
      "diff7_1       29710 non-null int64\n",
      "diff13_8      29710 non-null int64\n",
      "diff12_7      29710 non-null int64\n",
      "diff11_6      29710 non-null int64\n",
      "diff7_2       29710 non-null int64\n",
      "diff6_1       29710 non-null int64\n",
      "diff13_9      29710 non-null int64\n",
      "diff12_8      29710 non-null int64\n",
      "diff8_6       29710 non-null int64\n",
      "rank8         29710 non-null int64\n",
      "diff11_1      29710 non-null int64\n",
      "rank11        29710 non-null int64\n",
      "diff13_12     29710 non-null int64\n",
      "diff9_6       29710 non-null int64\n",
      "rank5         29710 non-null int64\n",
      "diff4_2       29710 non-null int64\n",
      "diff11_5      29710 non-null int64\n",
      "diff11_2      29710 non-null int64\n",
      "rank12        29710 non-null int64\n",
      "diff5_4       29710 non-null int64\n",
      "diff4_3       29710 non-null int64\n",
      "diff12_11     29710 non-null int64\n",
      "diff12_1      29710 non-null int64\n",
      "hand          29710 non-null int64\n",
      "dtypes: int64(44)\n",
      "memory usage: 10.0 MB\n"
     ]
    }
   ],
   "source": [
    "train_data.info()"
   ]
  },
  {
   "cell_type": "code",
   "execution_count": 8,
   "metadata": {
    "collapsed": false
   },
   "outputs": [],
   "source": [
    "X = train_data.drop(['hand'],axis=1)\n",
    "y = train_data.hand\n"
   ]
  },
  {
   "cell_type": "code",
   "execution_count": 9,
   "metadata": {
    "collapsed": true
   },
   "outputs": [],
   "source": [
    "from sklearn.model_selection import train_test_split\n",
    "\n",
    "X_train, X_test, y_train, y_test = train_test_split(X, y, test_size=0.33, random_state=54)"
   ]
  },
  {
   "cell_type": "code",
   "execution_count": null,
   "metadata": {
    "collapsed": true
   },
   "outputs": [],
   "source": []
  },
  {
   "cell_type": "markdown",
   "metadata": {},
   "source": [
    "构建不同的基学习器，这里我们使用了RandomForest、AdaBoost、ExtraTrees、GBDT、DecisionTree、KNN、SVM七个基学习器：（这里的模型可以使用如上面的GridSearch方法对模型的超参数进行搜索选择"
   ]
  },
  {
   "cell_type": "code",
   "execution_count": 16,
   "metadata": {
    "collapsed": false
   },
   "outputs": [
    {
     "name": "stdout",
     "output_type": "stream",
     "text": [
      "The average accuracy is 100.0000000000%\n"
     ]
    }
   ],
   "source": [
    "\n",
    "from sklearn.ensemble import ExtraTreesClassifier\n",
    "from sklearn.model_selection import cross_val_score\n",
    "\n",
    "\n",
    "\n",
    "et = ExtraTreesClassifier(n_estimators=150,max_depth=15,min_samples_leaf=2,verbose=0)\n",
    "scores = cross_val_score(et, X, y, scoring='accuracy')\n",
    "average_accuracy = np.mean(scores)*100\n",
    "print('The average accuracy is {0:.10f}%'.format(average_accuracy))\n",
    "\n",
    "\n"
   ]
  },
  {
   "cell_type": "code",
   "execution_count": 11,
   "metadata": {
    "collapsed": false
   },
   "outputs": [
    {
     "name": "stdout",
     "output_type": "stream",
     "text": [
      "('Param: ', 50)\n",
      "The average accuracy is 96.1090317912%\n",
      "('Param: ', 100)\n",
      "The average accuracy is 96.1292032331%\n",
      "('Param: ', 150)\n",
      "The average accuracy is 96.2706207721%\n",
      "('Param: ', 200)\n",
      "The average accuracy is 96.1460450451%\n",
      "('Param: ', 250)\n",
      "The average accuracy is 96.1527824495%\n",
      "('Param: ', 300)\n",
      "The average accuracy is 96.1729776745%\n",
      "('Param: ', 350)\n",
      "The average accuracy is 96.1830718894%\n",
      "('Param: ', 400)\n",
      "The average accuracy is 96.1561494528%\n",
      "('Param: ', 450)\n",
      "The average accuracy is 96.1763548706%\n",
      "Best score: 96.2706207721%\n",
      "('Best param: ', 150)\n"
     ]
    }
   ],
   "source": [
    "#n_estimators的值\n",
    "\n",
    "best_score = 0\n",
    "best_param = 0\n",
    "for param in range(50, 500, 50):\n",
    "    et = ExtraTreesClassifier(n_estimators=param,max_depth=8,min_samples_leaf=2,verbose=0)\n",
    "    scores = cross_val_score(et, X, y, scoring='accuracy')\n",
    "    average_accuracy = np.mean(scores)*100\n",
    "    print(\"Param: \", param)\n",
    "    print('The average accuracy is {0:.10f}%'.format(average_accuracy))\n",
    "    if best_score < average_accuracy:\n",
    "        best_score = average_accuracy\n",
    "        best_param = param\n",
    "print(\"Best score: {0:.10f}%\".format(best_score))\n",
    "print('Best param: ', best_param)\n"
   ]
  },
  {
   "cell_type": "code",
   "execution_count": 14,
   "metadata": {
    "collapsed": false
   },
   "outputs": [
    {
     "name": "stdout",
     "output_type": "stream",
     "text": [
      "('Param: ', 12)\n",
      "The average accuracy is 98.8388730901%\n",
      "('Param: ', 13)\n",
      "The average accuracy is 99.8383872360%\n",
      "('Param: ', 14)\n",
      "The average accuracy is 100.0000000000%\n",
      "('Param: ', 15)\n",
      "The average accuracy is 100.0000000000%\n",
      "Best score: 100.0000000000%\n",
      "('Best param: ', 14)\n"
     ]
    }
   ],
   "source": [
    "#Max_depth的值\n",
    "\n",
    "best_score = 0\n",
    "best_param = 0\n",
    "for param in range(12, 16, 1):\n",
    "    et = ExtraTreesClassifier(n_estimators=150,max_depth=param,min_samples_leaf=2,verbose=0)\n",
    "    scores = cross_val_score(et, X, y, scoring='accuracy')\n",
    "    average_accuracy = np.mean(scores)*100\n",
    "    print(\"Param: \", param)\n",
    "    print('The average accuracy is {0:.10f}%'.format(average_accuracy))\n",
    "    if best_score < average_accuracy:\n",
    "        best_score = average_accuracy\n",
    "        best_param = param\n",
    "print(\"Best score: {0:.10f}%\".format(best_score))\n",
    "print('Best param: ', best_param)\n"
   ]
  },
  {
   "cell_type": "code",
   "execution_count": null,
   "metadata": {
    "collapsed": true
   },
   "outputs": [],
   "source": []
  }
 ],
 "metadata": {
  "anaconda-cloud": {},
  "kernelspec": {
   "display_name": "Python [Root]",
   "language": "python",
   "name": "Python [Root]"
  },
  "language_info": {
   "codemirror_mode": {
    "name": "ipython",
    "version": 2
   },
   "file_extension": ".py",
   "mimetype": "text/x-python",
   "name": "python",
   "nbconvert_exporter": "python",
   "pygments_lexer": "ipython2",
   "version": "2.7.12"
  }
 },
 "nbformat": 4,
 "nbformat_minor": 0
}
